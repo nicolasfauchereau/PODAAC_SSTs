{
 "cells": [
  {
   "cell_type": "code",
   "execution_count": null,
   "metadata": {},
   "outputs": [],
   "source": [
    "import os \n",
    "from glob import glob"
   ]
  },
  {
   "cell_type": "code",
   "execution_count": null,
   "metadata": {},
   "outputs": [],
   "source": [
    "import xarray as xr"
   ]
  },
  {
   "cell_type": "markdown",
   "metadata": {},
   "source": [
    "reads the NOAA OISST dataset downloaded from PODAAC [ftp://podaac-ftp.jpl.nasa.gov/allData/ghrsst/data/GDS2/L4/GLOB/NCEI/AVHRR_OI/v2/](ftp://podaac-ftp.jpl.nasa.gov/allData/ghrsst/data/GDS2/L4/GLOB/NCEI/AVHRR_OI/v2/)"
   ]
  },
  {
   "cell_type": "code",
   "execution_count": null,
   "metadata": {},
   "outputs": [],
   "source": [
    "dpath = '../../data/podaac'"
   ]
  },
  {
   "cell_type": "code",
   "execution_count": null,
   "metadata": {},
   "outputs": [],
   "source": [
    "lfiles = glob(os.path.join(dpath, \"*-NCEI-L4_GHRSST-SSTblend-AVHRR_OI-GLOB-v02.0-fv02.0.nc\"))"
   ]
  },
  {
   "cell_type": "code",
   "execution_count": null,
   "metadata": {},
   "outputs": [],
   "source": [
    "lfiles = sorted(lfiles)"
   ]
  },
  {
   "cell_type": "code",
   "execution_count": null,
   "metadata": {},
   "outputs": [],
   "source": [
    "opath = os.path.join(dpath, 'NZ_region')"
   ]
  },
  {
   "cell_type": "code",
   "execution_count": null,
   "metadata": {},
   "outputs": [],
   "source": [
    "if not os.path.exists(opath): \n",
    "    os.mkdir(opath)"
   ]
  },
  {
   "cell_type": "code",
   "execution_count": null,
   "metadata": {},
   "outputs": [],
   "source": [
    "lfiles[:5]"
   ]
  },
  {
   "cell_type": "code",
   "execution_count": null,
   "metadata": {},
   "outputs": [],
   "source": [
    "lfiles[-5:]"
   ]
  },
  {
   "cell_type": "markdown",
   "metadata": {},
   "source": [
    "### process the whole NOAA OISST dataset (downloaded from PODAAC)\n"
   ]
  },
  {
   "cell_type": "code",
   "execution_count": null,
   "metadata": {},
   "outputs": [],
   "source": [
    "for fname in lfiles: \n",
    "    \n",
    "    dset = xr.open_dataset(fname)\n",
    "    \n",
    "    # NZ `Box`\n",
    "    \n",
    "    #     dset = dset.sel(lon=slice(165, 179), lat=slice(-48, -34)).mean('lon').mean('lat')\n",
    "    \n",
    "    # NZ Region: \n",
    "    \"\"\"\n",
    "    llcrnrlat = -55 # lower left corner latitude\n",
    "    urcrnrlat = -25 # upper right corner latitude\n",
    "\n",
    "    llcrnrlon = 145 # lower left corner longitude\n",
    "    urcrnrlon = 195 # upper right corner longitude\n",
    "    \"\"\"\n",
    "    \n",
    "    llcrnrlat = -55 # lower left corner latitude\n",
    "    urcrnrlat = -25 # upper right corner latitude\n",
    "\n",
    "    llcrnrlon = 145 # lower left corner longitude\n",
    "    urcrnrlon = 195 # upper right corner longitude\n",
    "    \n",
    "    \n",
    "    # if the easternmost longituide is > 180, need to roll the dataset \n",
    "    \n",
    "    if urcrnrlon > 180.: \n",
    "        \n",
    "        dset = dset.assign_coords(lon=(dset.lon % 360)).roll(lon=(dset.dims['lon'] // 2), roll_coords=True)\n",
    "    \n",
    "        dset = dset.sel(lon=slice(llcrnrlon, urcrnrlon), lat=slice(llcrnrlat, urcrnrlat)).mean('lon').mean('lat')\n",
    "    \n",
    "        dset.to_netcdf(os.path.join(opath, os.path.basename(fname)))\n",
    "    \n",
    "        dset.close() "
   ]
  },
  {
   "cell_type": "code",
   "execution_count": null,
   "metadata": {},
   "outputs": [],
   "source": []
  },
  {
   "cell_type": "code",
   "execution_count": null,
   "metadata": {},
   "outputs": [],
   "source": []
  }
 ],
 "metadata": {
  "kernelspec": {
   "display_name": "Python 3",
   "language": "python",
   "name": "python3"
  },
  "language_info": {
   "codemirror_mode": {
    "name": "ipython",
    "version": 3
   },
   "file_extension": ".py",
   "mimetype": "text/x-python",
   "name": "python",
   "nbconvert_exporter": "python",
   "pygments_lexer": "ipython3",
   "version": "3.6.6"
  }
 },
 "nbformat": 4,
 "nbformat_minor": 2
}
